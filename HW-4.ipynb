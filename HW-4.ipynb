{
 "cells": [
  {
   "cell_type": "markdown",
   "metadata": {},
   "source": [
    "# PROBLEM 1"
   ]
  },
  {
   "cell_type": "code",
   "execution_count": 20,
   "metadata": {
    "collapsed": true
   },
   "outputs": [],
   "source": [
    "from random import uniform\n",
    "from math import sqrt\n",
    "from time import time\n",
    "import numpy"
   ]
  },
  {
   "cell_type": "code",
   "execution_count": 21,
   "metadata": {
    "collapsed": true
   },
   "outputs": [],
   "source": [
    "number_of_darts = 200000"
   ]
  },
  {
   "cell_type": "code",
   "execution_count": 22,
   "metadata": {
    "collapsed": true
   },
   "outputs": [],
   "source": [
    "def throw_dart():\n",
    "    x,y = uniform(0,1), uniform(0,1)\n",
    "    if sqrt((x-0.5)**2+(y-0.5)**2) <= 0.5:\n",
    "        return 1\n",
    "    return 0"
   ]
  },
  {
   "cell_type": "code",
   "execution_count": 23,
   "metadata": {
    "collapsed": true
   },
   "outputs": [],
   "source": [
    "def count_darts_in_circle_serial(n):\n",
    "    number_of_darts_in_circle = 0\n",
    "    for n in range(n):\n",
    "        number_of_darts_in_circle += throw_dart()\n",
    "    return number_of_darts_in_circle"
   ]
  },
  {
   "cell_type": "code",
   "execution_count": 24,
   "metadata": {
    "collapsed": true
   },
   "outputs": [],
   "source": [
    "def runtime(method, func, n):\n",
    "    start_time = time()\n",
    "    count = func(n)\n",
    "    end_time = time()\n",
    "    execution_time = end_time - start_time\n",
    "    pi_approx = 4*count/n\n",
    "    print(method, '\\n')\n",
    "    print('Pi Approximation:', pi_approx)\n",
    "    print('Number of Darts:', n)\n",
    "    print('Execution Time (s):',execution_time)\n",
    "    print('Darts Thrown per Second:', number_of_darts/execution_time)"
   ]
  },
  {
   "cell_type": "code",
   "execution_count": 25,
   "metadata": {
    "collapsed": false
   },
   "outputs": [
    {
     "name": "stdout",
     "output_type": "stream",
     "text": [
      "SIMPLE SERIAL \n",
      "\n",
      "Pi Approximation: 3.14254\n",
      "Number of Darts: 200000\n",
      "Execution Time (s): 0.38481998443603516\n",
      "Darts Thrown per Second: 519723.52811433584\n"
     ]
    }
   ],
   "source": [
    "runtime('SIMPLE SERIAL', count_darts_in_circle_serial, number_of_darts)"
   ]
  },
  {
   "cell_type": "code",
   "execution_count": 26,
   "metadata": {
    "collapsed": false
   },
   "outputs": [
    {
     "name": "stdout",
     "output_type": "stream",
     "text": [
      "You have 4 CPUs\n"
     ]
    }
   ],
   "source": [
    "import multiprocessing\n",
    "\n",
    "np = multiprocessing.cpu_count()\n",
    "print('You have {0:1d} CPUs'.format(np))\n",
    "part_count = [int(number_of_darts/np) for i in range(np)]"
   ]
  },
  {
   "cell_type": "code",
   "execution_count": 27,
   "metadata": {
    "collapsed": false
   },
   "outputs": [],
   "source": [
    "def count_darts_in_circle_multi(n):\n",
    "    part_count = [int(n/np) for i in range(np)]\n",
    "    p = multiprocessing.Pool(np)\n",
    "    count = p.map(count_darts_in_circle_serial, part_count)\n",
    "    number_of_darts_in_circle = sum(count)\n",
    "    return number_of_darts_in_circle"
   ]
  },
  {
   "cell_type": "code",
   "execution_count": 28,
   "metadata": {
    "collapsed": false
   },
   "outputs": [
    {
     "name": "stdout",
     "output_type": "stream",
     "text": [
      "MULTIPROCESSING \n",
      "\n",
      "Pi Approximation: 3.14614\n",
      "Number of Darts: 200000\n",
      "Execution Time (s): 0.22267603874206543\n",
      "Darts Thrown per Second: 898165.7888735303\n"
     ]
    }
   ],
   "source": [
    "runtime('MULTIPROCESSING', count_darts_in_circle_multi, number_of_darts)"
   ]
  },
  {
   "cell_type": "code",
   "execution_count": 29,
   "metadata": {
    "collapsed": true
   },
   "outputs": [],
   "source": [
    "import dask as da\n",
    "\n",
    "def count_darts_in_circle_da(n):\n",
    "    count = [da.delayed(throw_dart)() for i in range(n)]\n",
    "    number_of_darts_in_circle = sum(da.compute(*count))\n",
    "    return number_of_darts_in_circle"
   ]
  },
  {
   "cell_type": "code",
   "execution_count": 30,
   "metadata": {
    "collapsed": false
   },
   "outputs": [
    {
     "name": "stdout",
     "output_type": "stream",
     "text": [
      "DASK \n",
      "\n",
      "Pi Approximation: 3.14026\n",
      "Number of Darts: 200000\n",
      "Execution Time (s): 49.416600942611694\n",
      "Darts Thrown per Second: 4047.2229207400014\n"
     ]
    }
   ],
   "source": [
    "runtime('DASK', count_darts_in_circle_da, number_of_darts)"
   ]
  },
  {
   "cell_type": "code",
   "execution_count": 19,
   "metadata": {
    "collapsed": false
   },
   "outputs": [
    {
     "ename": "CompositeError",
     "evalue": "one or more exceptions from call to method: count_darts_in_circle_serial\n[0:apply]: NameError: name 'throw_dart' is not defined\n[1:apply]: NameError: name 'throw_dart' is not defined\n[2:apply]: NameError: name 'throw_dart' is not defined\n[3:apply]: NameError: name 'throw_dart' is not defined",
     "output_type": "error",
     "traceback": [
      "[0:apply]: ",
      "\u001b[0;31m\u001b[0m\u001b[0;31mNameError\u001b[0mTraceback (most recent call last)\u001b[0;32m<string>\u001b[0m in \u001b[0;36m<module>\u001b[0;34m()\u001b[0m",
      "\u001b[0;32m/Users/carolinesofiatti/anaconda3/lib/python3.5/site-packages/ipyparallel/client/remotefunction.py\u001b[0m in \u001b[0;36m<lambda>\u001b[0;34m(f, *sequences)\u001b[0m",
      "\u001b[1;32m    248\u001b[0m             \u001b[0;32mif\u001b[0m \u001b[0m_mapping\u001b[0m\u001b[0;34m:\u001b[0m\u001b[0;34m\u001b[0m\u001b[0m",
      "\u001b[1;32m    249\u001b[0m                 \u001b[0;32mif\u001b[0m \u001b[0msys\u001b[0m\u001b[0;34m.\u001b[0m\u001b[0mversion_info\u001b[0m\u001b[0;34m[\u001b[0m\u001b[0;36m0\u001b[0m\u001b[0;34m]\u001b[0m \u001b[0;34m>=\u001b[0m \u001b[0;36m3\u001b[0m\u001b[0;34m:\u001b[0m\u001b[0;34m\u001b[0m\u001b[0m",
      "\u001b[0;32m--> 250\u001b[0;31m                     \u001b[0mf\u001b[0m \u001b[0;34m=\u001b[0m \u001b[0;32mlambda\u001b[0m \u001b[0mf\u001b[0m\u001b[0;34m,\u001b[0m \u001b[0;34m*\u001b[0m\u001b[0msequences\u001b[0m\u001b[0;34m:\u001b[0m \u001b[0mlist\u001b[0m\u001b[0;34m(\u001b[0m\u001b[0mmap\u001b[0m\u001b[0;34m(\u001b[0m\u001b[0mf\u001b[0m\u001b[0;34m,\u001b[0m \u001b[0;34m*\u001b[0m\u001b[0msequences\u001b[0m\u001b[0;34m)\u001b[0m\u001b[0;34m)\u001b[0m\u001b[0;34m\u001b[0m\u001b[0m",
      "\u001b[0m\u001b[1;32m    251\u001b[0m                 \u001b[0;32melse\u001b[0m\u001b[0;34m:\u001b[0m\u001b[0;34m\u001b[0m\u001b[0m",
      "\u001b[1;32m    252\u001b[0m                     \u001b[0mf\u001b[0m \u001b[0;34m=\u001b[0m \u001b[0mmap\u001b[0m\u001b[0;34m\u001b[0m\u001b[0m",
      "\u001b[0;32m<ipython-input-6-6b07c86348fe>\u001b[0m in \u001b[0;36mcount_darts_in_circle_serial\u001b[0;34m(n)\u001b[0m",
      "\u001b[0;31mNameError\u001b[0m: name 'throw_dart' is not defined",
      "",
      "[1:apply]: ",
      "\u001b[0;31m\u001b[0m\u001b[0;31mNameError\u001b[0mTraceback (most recent call last)\u001b[0;32m<string>\u001b[0m in \u001b[0;36m<module>\u001b[0;34m()\u001b[0m",
      "\u001b[0;32m/Users/carolinesofiatti/anaconda3/lib/python3.5/site-packages/ipyparallel/client/remotefunction.py\u001b[0m in \u001b[0;36m<lambda>\u001b[0;34m(f, *sequences)\u001b[0m",
      "\u001b[1;32m    248\u001b[0m             \u001b[0;32mif\u001b[0m \u001b[0m_mapping\u001b[0m\u001b[0;34m:\u001b[0m\u001b[0;34m\u001b[0m\u001b[0m",
      "\u001b[1;32m    249\u001b[0m                 \u001b[0;32mif\u001b[0m \u001b[0msys\u001b[0m\u001b[0;34m.\u001b[0m\u001b[0mversion_info\u001b[0m\u001b[0;34m[\u001b[0m\u001b[0;36m0\u001b[0m\u001b[0;34m]\u001b[0m \u001b[0;34m>=\u001b[0m \u001b[0;36m3\u001b[0m\u001b[0;34m:\u001b[0m\u001b[0;34m\u001b[0m\u001b[0m",
      "\u001b[0;32m--> 250\u001b[0;31m                     \u001b[0mf\u001b[0m \u001b[0;34m=\u001b[0m \u001b[0;32mlambda\u001b[0m \u001b[0mf\u001b[0m\u001b[0;34m,\u001b[0m \u001b[0;34m*\u001b[0m\u001b[0msequences\u001b[0m\u001b[0;34m:\u001b[0m \u001b[0mlist\u001b[0m\u001b[0;34m(\u001b[0m\u001b[0mmap\u001b[0m\u001b[0;34m(\u001b[0m\u001b[0mf\u001b[0m\u001b[0;34m,\u001b[0m \u001b[0;34m*\u001b[0m\u001b[0msequences\u001b[0m\u001b[0;34m)\u001b[0m\u001b[0;34m)\u001b[0m\u001b[0;34m\u001b[0m\u001b[0m",
      "\u001b[0m\u001b[1;32m    251\u001b[0m                 \u001b[0;32melse\u001b[0m\u001b[0;34m:\u001b[0m\u001b[0;34m\u001b[0m\u001b[0m",
      "\u001b[1;32m    252\u001b[0m                     \u001b[0mf\u001b[0m \u001b[0;34m=\u001b[0m \u001b[0mmap\u001b[0m\u001b[0;34m\u001b[0m\u001b[0m",
      "\u001b[0;32m<ipython-input-6-6b07c86348fe>\u001b[0m in \u001b[0;36mcount_darts_in_circle_serial\u001b[0;34m(n)\u001b[0m",
      "\u001b[0;31mNameError\u001b[0m: name 'throw_dart' is not defined",
      "",
      "[2:apply]: ",
      "\u001b[0;31m\u001b[0m\u001b[0;31mNameError\u001b[0mTraceback (most recent call last)\u001b[0;32m<string>\u001b[0m in \u001b[0;36m<module>\u001b[0;34m()\u001b[0m",
      "\u001b[0;32m/Users/carolinesofiatti/anaconda3/lib/python3.5/site-packages/ipyparallel/client/remotefunction.py\u001b[0m in \u001b[0;36m<lambda>\u001b[0;34m(f, *sequences)\u001b[0m",
      "\u001b[1;32m    248\u001b[0m             \u001b[0;32mif\u001b[0m \u001b[0m_mapping\u001b[0m\u001b[0;34m:\u001b[0m\u001b[0;34m\u001b[0m\u001b[0m",
      "\u001b[1;32m    249\u001b[0m                 \u001b[0;32mif\u001b[0m \u001b[0msys\u001b[0m\u001b[0;34m.\u001b[0m\u001b[0mversion_info\u001b[0m\u001b[0;34m[\u001b[0m\u001b[0;36m0\u001b[0m\u001b[0;34m]\u001b[0m \u001b[0;34m>=\u001b[0m \u001b[0;36m3\u001b[0m\u001b[0;34m:\u001b[0m\u001b[0;34m\u001b[0m\u001b[0m",
      "\u001b[0;32m--> 250\u001b[0;31m                     \u001b[0mf\u001b[0m \u001b[0;34m=\u001b[0m \u001b[0;32mlambda\u001b[0m \u001b[0mf\u001b[0m\u001b[0;34m,\u001b[0m \u001b[0;34m*\u001b[0m\u001b[0msequences\u001b[0m\u001b[0;34m:\u001b[0m \u001b[0mlist\u001b[0m\u001b[0;34m(\u001b[0m\u001b[0mmap\u001b[0m\u001b[0;34m(\u001b[0m\u001b[0mf\u001b[0m\u001b[0;34m,\u001b[0m \u001b[0;34m*\u001b[0m\u001b[0msequences\u001b[0m\u001b[0;34m)\u001b[0m\u001b[0;34m)\u001b[0m\u001b[0;34m\u001b[0m\u001b[0m",
      "\u001b[0m\u001b[1;32m    251\u001b[0m                 \u001b[0;32melse\u001b[0m\u001b[0;34m:\u001b[0m\u001b[0;34m\u001b[0m\u001b[0m",
      "\u001b[1;32m    252\u001b[0m                     \u001b[0mf\u001b[0m \u001b[0;34m=\u001b[0m \u001b[0mmap\u001b[0m\u001b[0;34m\u001b[0m\u001b[0m",
      "\u001b[0;32m<ipython-input-6-6b07c86348fe>\u001b[0m in \u001b[0;36mcount_darts_in_circle_serial\u001b[0;34m(n)\u001b[0m",
      "\u001b[0;31mNameError\u001b[0m: name 'throw_dart' is not defined",
      "",
      "[3:apply]: ",
      "\u001b[0;31m\u001b[0m\u001b[0;31mNameError\u001b[0mTraceback (most recent call last)\u001b[0;32m<string>\u001b[0m in \u001b[0;36m<module>\u001b[0;34m()\u001b[0m",
      "\u001b[0;32m/Users/carolinesofiatti/anaconda3/lib/python3.5/site-packages/ipyparallel/client/remotefunction.py\u001b[0m in \u001b[0;36m<lambda>\u001b[0;34m(f, *sequences)\u001b[0m",
      "\u001b[1;32m    248\u001b[0m             \u001b[0;32mif\u001b[0m \u001b[0m_mapping\u001b[0m\u001b[0;34m:\u001b[0m\u001b[0;34m\u001b[0m\u001b[0m",
      "\u001b[1;32m    249\u001b[0m                 \u001b[0;32mif\u001b[0m \u001b[0msys\u001b[0m\u001b[0;34m.\u001b[0m\u001b[0mversion_info\u001b[0m\u001b[0;34m[\u001b[0m\u001b[0;36m0\u001b[0m\u001b[0;34m]\u001b[0m \u001b[0;34m>=\u001b[0m \u001b[0;36m3\u001b[0m\u001b[0;34m:\u001b[0m\u001b[0;34m\u001b[0m\u001b[0m",
      "\u001b[0;32m--> 250\u001b[0;31m                     \u001b[0mf\u001b[0m \u001b[0;34m=\u001b[0m \u001b[0;32mlambda\u001b[0m \u001b[0mf\u001b[0m\u001b[0;34m,\u001b[0m \u001b[0;34m*\u001b[0m\u001b[0msequences\u001b[0m\u001b[0;34m:\u001b[0m \u001b[0mlist\u001b[0m\u001b[0;34m(\u001b[0m\u001b[0mmap\u001b[0m\u001b[0;34m(\u001b[0m\u001b[0mf\u001b[0m\u001b[0;34m,\u001b[0m \u001b[0;34m*\u001b[0m\u001b[0msequences\u001b[0m\u001b[0;34m)\u001b[0m\u001b[0;34m)\u001b[0m\u001b[0;34m\u001b[0m\u001b[0m",
      "\u001b[0m\u001b[1;32m    251\u001b[0m                 \u001b[0;32melse\u001b[0m\u001b[0;34m:\u001b[0m\u001b[0;34m\u001b[0m\u001b[0m",
      "\u001b[1;32m    252\u001b[0m                     \u001b[0mf\u001b[0m \u001b[0;34m=\u001b[0m \u001b[0mmap\u001b[0m\u001b[0;34m\u001b[0m\u001b[0m",
      "\u001b[0;32m<ipython-input-6-6b07c86348fe>\u001b[0m in \u001b[0;36mcount_darts_in_circle_serial\u001b[0;34m(n)\u001b[0m",
      "\u001b[0;31mNameError\u001b[0m: name 'throw_dart' is not defined",
      ""
     ]
    }
   ],
   "source": [
    "import ipyparallel\n",
    "\n",
    "clients = ipyparallel.Client()\n",
    "clients.ids\n",
    "dview = clients.direct_view()\n",
    "\n",
    "def count_darts_in_circle_parallel(part_count=part_count):\n",
    "    number_of_darts = dview.map_sync(count_darts_in_circle_serial, part_count)\n",
    "    return number_of_darts"
   ]
  },
  {
   "cell_type": "markdown",
   "metadata": {
    "collapsed": false
   },
   "source": [
    "Tried making this work, will come back latter if I have time.   \n",
    "```python\n",
    "import ipyparallel as ipp  \n",
    "rc = ipp.Client()  \n",
    "ipcluster nbextension enable  \n",
    "```"
   ]
  },
  {
   "cell_type": "markdown",
   "metadata": {},
   "source": [
    "# PROBLEM 2"
   ]
  },
  {
   "cell_type": "code",
   "execution_count": 12,
   "metadata": {
    "collapsed": true
   },
   "outputs": [],
   "source": [
    "def running_trial(func,ndarts):\n",
    "    maxdarts = numpy.max(ndarts)\n",
    "    start = time()\n",
    "    count = func(ndarts[0])\n",
    "    exec_time = time()-start\n",
    "    times = [exec_time]\n",
    "    for i,n in enumerate(ndarts[1:]):\n",
    "        count = func(n-ndarts[i])\n",
    "        exec_time = time()-start\n",
    "        if n in ndarts:\n",
    "            times.append(exec_time)\n",
    "    return times\n",
    "\n",
    "def many_trials(func,ndarts,ntrials=20):\n",
    "    trials = numpy.array([running_trial(func,ndarts) for _ in range(ntrials)])\n",
    "    return trials\n",
    "\n",
    "def mean_time(trials):\n",
    "    return numpy.mean(trials,axis=0)\n",
    "\n",
    "def ci_time(trials):\n",
    "    low = stats.scoreatpercentile(trials,5,axis=0)\n",
    "    high = stats.scoreatpercentile(trials,95,axis=0)\n",
    "    return low,high"
   ]
  },
  {
   "cell_type": "code",
   "execution_count": 13,
   "metadata": {
    "collapsed": false
   },
   "outputs": [],
   "source": [
    "ndarts = numpy.logspace(0, 6, 5, dtype=int)\n",
    "serial_times = running_trial(count_darts_in_circle_serial, ndarts)\n",
    "multi_times = running_trial(count_darts_in_circle_multi, ndarts)\n",
    "da_times = running_trial(count_darts_in_circle_da, ndarts)"
   ]
  },
  {
   "cell_type": "code",
   "execution_count": 16,
   "metadata": {
    "collapsed": false
   },
   "outputs": [
    {
     "data": {
      "image/png": "[encoded data removed]",
      "text/plain": [
       "<matplotlib.figure.Figure at 0x11eb556d8>"
      ]
     },
     "metadata": {},
     "output_type": "display_data"
    }
   ],
   "source": [
    "import seaborn as sns\n",
    "import matplotlib.pyplot as plt\n",
    "%matplotlib inline\n",
    "\n",
    "plt.figure(figsize=(8,6))\n",
    "plt.loglog(ndarts,serial_times, label='serial')\n",
    "plt.loglog(ndarts,multi_times, label='multiprocessing')\n",
    "plt.loglog(ndarts,da_times, label='dask')\n",
    "plt.legend(loc=2)\n",
    "plt.ylabel('Time (s)')\n",
    "plt.xlabel('Darts Thrown')\n",
    "plt.savefig('dart.png')\n",
    "plt.show()"
   ]
  },
  {
   "cell_type": "markdown",
   "metadata": {},
   "source": [
    "# COMPUTER INFO\n",
    "MacBook Pro  \n",
    "2.4 GHz Intel Core i5  \n",
    "4 \"cores\"  "
   ]
  }
 ],
 "metadata": {
  "kernelspec": {
   "display_name": "Python [Root]",
   "language": "python",
   "name": "Python [Root]"
  },
  "language_info": {
   "codemirror_mode": {
    "name": "ipython",
    "version": 3
   },
   "file_extension": ".py",
   "mimetype": "text/x-python",
   "name": "python",
   "nbconvert_exporter": "python",
   "pygments_lexer": "ipython3",
   "version": "3.5.2"
  }
 },
 "nbformat": 4,
 "nbformat_minor": 0
}
