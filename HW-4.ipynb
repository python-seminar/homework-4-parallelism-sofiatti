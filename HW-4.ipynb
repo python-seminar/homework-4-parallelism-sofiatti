{
 "cells": [
  {
   "cell_type": "markdown",
   "metadata": {},
   "source": [
    "# PROBLEM 1"
   ]
  },
  {
   "cell_type": "code",
   "execution_count": 44,
   "metadata": {
    "collapsed": true
   },
   "outputs": [],
   "source": [
    "from random import uniform\n",
    "from math import sqrt\n",
    "from time import time\n",
    "import numpy"
   ]
  },
  {
   "cell_type": "code",
   "execution_count": 2,
   "metadata": {
    "collapsed": true
   },
   "outputs": [],
   "source": [
    "number_of_darts = 200000"
   ]
  },
  {
   "cell_type": "code",
   "execution_count": 10,
   "metadata": {
    "collapsed": true
   },
   "outputs": [],
   "source": [
    "def throw_dart():\n",
    "    x,y = uniform(0,1), uniform(0,1)\n",
    "    if sqrt((x-0.5)**2+(y-0.5)**2) <= 0.5:\n",
    "        return 1\n",
    "    return 0"
   ]
  },
  {
   "cell_type": "code",
   "execution_count": 11,
   "metadata": {
    "collapsed": true
   },
   "outputs": [],
   "source": [
    "def count_darts_in_circle_serial(n):\n",
    "    number_of_darts_in_circle = 0\n",
    "    for n in range(n):\n",
    "        number_of_darts_in_circle += throw_dart()\n",
    "    return number_of_darts_in_circle"
   ]
  },
  {
   "cell_type": "code",
   "execution_count": 12,
   "metadata": {
    "collapsed": true
   },
   "outputs": [],
   "source": [
    "def runtime(method, func, n):\n",
    "    start_time = time()\n",
    "    count = func(n)\n",
    "    end_time = time()\n",
    "    execution_time = end_time - start_time\n",
    "    pi_approx = 4*count/n\n",
    "    print(method, '\\n')\n",
    "    print('Pi Approximation:', pi_approx)\n",
    "    print('Number of Darts:', n)\n",
    "    print('Execution Time (s):',execution_time)\n",
    "    print('Darts Thrown per Second:', number_of_darts/execution_time)"
   ]
  },
  {
   "cell_type": "code",
   "execution_count": 13,
   "metadata": {
    "collapsed": false
   },
   "outputs": [
    {
     "name": "stdout",
     "output_type": "stream",
     "text": [
      "SIMPLE SERIAL \n",
      "\n",
      "Pi Approximation: 3.14718\n",
      "Number of Darts: 200000\n",
      "Execution Time (s): 0.37608885765075684\n",
      "Darts Thrown per Second: 531789.2193065814\n"
     ]
    }
   ],
   "source": [
    "runtime('SIMPLE SERIAL', count_darts_in_circle_serial, number_of_darts)"
   ]
  },
  {
   "cell_type": "code",
   "execution_count": 14,
   "metadata": {
    "collapsed": false
   },
   "outputs": [
    {
     "name": "stdout",
     "output_type": "stream",
     "text": [
      "You have 4 CPUs\n"
     ]
    }
   ],
   "source": [
    "import multiprocessing\n",
    "\n",
    "np = multiprocessing.cpu_count()\n",
    "print('You have {0:1d} CPUs'.format(np))"
   ]
  },
  {
   "cell_type": "code",
   "execution_count": 32,
   "metadata": {
    "collapsed": false
   },
   "outputs": [],
   "source": [
    "def count_darts_in_circle_multi(n):\n",
    "    part_count = [int(n/np) for i in range(np)]\n",
    "    p = multiprocessing.Pool(np)\n",
    "    count = p.map(count_darts_in_circle_serial, part_count)\n",
    "    number_of_darts_in_circle = sum(count)\n",
    "    return number_of_darts_in_circle"
   ]
  },
  {
   "cell_type": "code",
   "execution_count": 33,
   "metadata": {
    "collapsed": false
   },
   "outputs": [
    {
     "name": "stdout",
     "output_type": "stream",
     "text": [
      "MULTIPROCESSING \n",
      "\n",
      "Pi Approximation: 3.13478\n",
      "Number of Darts: 200000\n",
      "Execution Time (s): 0.22660279273986816\n",
      "Darts Thrown per Second: 882601.6554420526\n"
     ]
    }
   ],
   "source": [
    "runtime('MULTIPROCESSING', count_darts_in_circle_multi, number_of_darts)"
   ]
  },
  {
   "cell_type": "code",
   "execution_count": 36,
   "metadata": {
    "collapsed": true
   },
   "outputs": [],
   "source": [
    "import dask as da\n",
    "\n",
    "def count_darts_in_circle_da(n):\n",
    "    count = [da.delayed(throw_dart)() for i in range(n)]\n",
    "    number_of_darts_in_circle = sum(da.compute(*count))\n",
    "    return number_of_darts_in_circle"
   ]
  },
  {
   "cell_type": "code",
   "execution_count": 37,
   "metadata": {
    "collapsed": false
   },
   "outputs": [
    {
     "name": "stdout",
     "output_type": "stream",
     "text": [
      "DASK \n",
      "\n",
      "Pi Approximation: 3.14628\n",
      "Number of Darts: 200000\n",
      "Execution Time (s): 54.93285393714905\n",
      "Darts Thrown per Second: 3640.808471899681\n"
     ]
    }
   ],
   "source": [
    "runtime('DASK', count_darts_in_circle_da, number_of_darts)"
   ]
  },
  {
   "cell_type": "markdown",
   "metadata": {
    "collapsed": false
   },
   "source": [
    "Tried making this work, will come back latter if I have time.   \n",
    "```python\n",
    "import ipyparallel as ipp  \n",
    "rc = ipp.Client()  \n",
    "ipcluster nbextension enable  \n",
    "```"
   ]
  },
  {
   "cell_type": "markdown",
   "metadata": {},
   "source": [
    "# PROBLEM 2"
   ]
  },
  {
   "cell_type": "code",
   "execution_count": 46,
   "metadata": {
    "collapsed": true
   },
   "outputs": [],
   "source": [
    "def running_trial(func,ndarts):\n",
    "    maxdarts = numpy.max(ndarts)\n",
    "    start = time()\n",
    "    count = func(ndarts[0])\n",
    "    exec_time = time()-start\n",
    "    times = [exec_time]\n",
    "    for i,n in enumerate(ndarts[1:]):\n",
    "        count = func(n-ndarts[i])\n",
    "        exec_time = time()-start\n",
    "        if n in ndarts:\n",
    "            times.append(exec_time)\n",
    "    return times\n",
    "\n",
    "def many_trials(func,ndarts,ntrials=20):\n",
    "    trials = numpy.array([running_trial(func,ndarts) for _ in range(ntrials)])\n",
    "    return trials\n",
    "\n",
    "def mean_time(trials):\n",
    "    return numpy.mean(trials,axis=0)\n",
    "\n",
    "def ci_time(trials):\n",
    "    low = stats.scoreatpercentile(trials,5,axis=0)\n",
    "    high = stats.scoreatpercentile(trials,95,axis=0)\n",
    "    return low,high"
   ]
  },
  {
   "cell_type": "code",
   "execution_count": null,
   "metadata": {
    "collapsed": false
   },
   "outputs": [],
   "source": [
    "ndarts = numpy.logspace(1, 8, 20, dtype=int)\n",
    "serial_times = running_trial(count_darts_in_circle_serial, ndarts)\n",
    "multi_times = running_trial(count_darts_in_circle_multi, ndarts)\n",
    "da_times = running_trial(count_darts_in_circle_da, ndarts)"
   ]
  },
  {
   "cell_type": "code",
   "execution_count": null,
   "metadata": {
    "collapsed": true
   },
   "outputs": [],
   "source": [
    "import seaborn as sns\n",
    "import matplotlib.pyplot as plt\n",
    "%matplotlib inline\n",
    "\n",
    "plt.figure(figsize=(8,6))\n",
    "plt.loglog(ndarts,serial_times, label='serial')\n",
    "plt.loglog(ndarts,multi_times, label='multiprocessing')\n",
    "plt.loglog(ndarts,da_times, label='dask')\n",
    "plt.legend(loc=2)\n",
    "plt.ylabel('Time [s]')\n",
    "plt.xlabel('Darts Thrown')\n",
    "plt.savefig('plots/dart.png')\n",
    "plt.show()"
   ]
  },
  {
   "cell_type": "markdown",
   "metadata": {},
   "source": [
    "# COMPUTER INFO\n",
    "MacBook Pro  \n",
    "2.4 GHz Intel Core i5  \n",
    "4 \"cores\"  "
   ]
  }
 ],
 "metadata": {
  "kernelspec": {
   "display_name": "Python [Root]",
   "language": "python",
   "name": "Python [Root]"
  },
  "language_info": {
   "codemirror_mode": {
    "name": "ipython",
    "version": 3
   },
   "file_extension": ".py",
   "mimetype": "text/x-python",
   "name": "python",
   "nbconvert_exporter": "python",
   "pygments_lexer": "ipython3",
   "version": "3.5.2"
  }
 },
 "nbformat": 4,
 "nbformat_minor": 0
}
